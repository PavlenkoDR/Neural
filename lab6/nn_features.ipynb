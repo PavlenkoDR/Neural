{
  "nbformat": 4,
  "nbformat_minor": 0,
  "metadata": {
    "colab": {
      "name": "nn_features.ipynb",
      "version": "0.3.2",
      "provenance": [],
      "toc_visible": true
    },
    "language_info": {
      "codemirror_mode": {
        "name": "ipython",
        "version": 3
      },
      "file_extension": ".py",
      "mimetype": "text/x-python",
      "name": "python",
      "nbconvert_exporter": "python",
      "pygments_lexer": "ipython3",
      "version": "3.6.5"
    },
    "kernelspec": {
      "name": "python3",
      "display_name": "Python 3"
    },
    "accelerator": "GPU"
  },
  "cells": [
    {
      "metadata": {
        "id": "-M7vjuJbvblj",
        "colab_type": "text"
      },
      "cell_type": "markdown",
      "source": [
        "# Распознавание собак и кошек на изображениях с помощью признаков, извлеченных VGG16\n",
        "\n",
        "**Источник данных** - соревнования Kaggle [Dogs vs. Cats](https://www.kaggle.com/c/dogs-vs-cats/data).\n",
        "\n",
        "Для распознавания используется предварительно обученная сверточная нейронная сеть VGG16.\n",
        "\n",
        "Перед использованием необходимо скачать и подготовить данные для обучения, проверки и тестирования.\n"
      ]
    },
    {
      "metadata": {
        "id": "i-A6YmPVvbll",
        "colab_type": "code",
        "colab": {}
      },
      "cell_type": "code",
      "source": [
        "from tensorflow.python.keras.preprocessing.image import ImageDataGenerator\n",
        "from tensorflow.python.keras.models import Sequential\n",
        "from tensorflow.python.keras.layers import Activation, Dropout, Flatten, Dense\n",
        "from tensorflow.python.keras.applications import VGG16\n",
        "from tensorflow.python.keras.optimizers import Adam\n",
        "import numpy as np"
      ],
      "execution_count": 0,
      "outputs": []
    },
    {
      "metadata": {
        "id": "MpcHo88evblx",
        "colab_type": "code",
        "colab": {}
      },
      "cell_type": "code",
      "source": [
        "# Каталог с данными для обучения\n",
        "train_dir = 'train'\n",
        "# Каталог с данными для проверки\n",
        "val_dir = 'val'\n",
        "# Каталог с данными для тестирования\n",
        "test_dir = 'test'\n",
        "# Размеры изображения\n",
        "img_width, img_height = 150, 150\n",
        "# Размерность тензора на основе изображения для входных данных в нейронную сеть\n",
        "# backend Tensorflow, channels_last\n",
        "input_shape = (img_width, img_height, 3)\n",
        "# Размер мини-выборки\n",
        "batch_size = 10\n",
        "# Количество изображений для обучения\n",
        "nb_train_samples = 17500\n",
        "# Количество изображений для проверки\n",
        "nb_validation_samples = 3750\n",
        "# Количество изображений для тестирования\n",
        "nb_test_samples = 3750"
      ],
      "execution_count": 0,
      "outputs": []
    },
    {
      "metadata": {
        "id": "KCs2nhDTvbl1",
        "colab_type": "text"
      },
      "cell_type": "markdown",
      "source": [
        "## Загружаем предварительно обученную нейронную сеть"
      ]
    },
    {
      "metadata": {
        "id": "Nowz6qg9vbl2",
        "colab_type": "code",
        "colab": {
          "base_uri": "https://localhost:8080/",
          "height": 120
        },
        "outputId": "465aaf50-8347-4b86-896f-e16bd2b72a92"
      },
      "cell_type": "code",
      "source": [
        "vgg16_net = VGG16(weights='imagenet', include_top=False, input_shape=(150, 150, 3))"
      ],
      "execution_count": 3,
      "outputs": [
        {
          "output_type": "stream",
          "text": [
            "WARNING:tensorflow:From /usr/local/lib/python3.6/dist-packages/tensorflow/python/ops/resource_variable_ops.py:435: colocate_with (from tensorflow.python.framework.ops) is deprecated and will be removed in a future version.\n",
            "Instructions for updating:\n",
            "Colocations handled automatically by placer.\n",
            "Downloading data from https://github.com/fchollet/deep-learning-models/releases/download/v0.1/vgg16_weights_tf_dim_ordering_tf_kernels_notop.h5\n",
            "58892288/58889256 [==============================] - 1s 0us/step\n"
          ],
          "name": "stdout"
        }
      ]
    },
    {
      "metadata": {
        "id": "Z8N1Dthlvbl4",
        "colab_type": "text"
      },
      "cell_type": "markdown",
      "source": [
        "## Готовим генераторы данных для извлечения признаков"
      ]
    },
    {
      "metadata": {
        "id": "xc2APbDOvbl5",
        "colab_type": "code",
        "colab": {}
      },
      "cell_type": "code",
      "source": [
        "datagen = ImageDataGenerator(rescale=1. / 255)"
      ],
      "execution_count": 0,
      "outputs": []
    },
    {
      "metadata": {
        "id": "8xNbS5oHvbl7",
        "colab_type": "code",
        "colab": {
          "base_uri": "https://localhost:8080/",
          "height": 33
        },
        "outputId": "3012bdd9-8e81-4eaf-cd16-55436175ed28"
      },
      "cell_type": "code",
      "source": [
        "train_generator = datagen.flow_from_directory(\n",
        "    train_dir,\n",
        "    target_size=(img_width, img_height),\n",
        "    batch_size=batch_size,\n",
        "    class_mode=None,\n",
        "    shuffle=False)"
      ],
      "execution_count": 5,
      "outputs": [
        {
          "output_type": "stream",
          "text": [
            "Found 17500 images belonging to 2 classes.\n"
          ],
          "name": "stdout"
        }
      ]
    },
    {
      "metadata": {
        "id": "ysOkyOO3vbl-",
        "colab_type": "code",
        "colab": {
          "base_uri": "https://localhost:8080/",
          "height": 33
        },
        "outputId": "117f7c81-5dd2-44b7-9c2c-5d3822820a4d"
      },
      "cell_type": "code",
      "source": [
        "val_generator = datagen.flow_from_directory(\n",
        "    val_dir,\n",
        "    target_size=(img_width, img_height),\n",
        "    batch_size=batch_size,\n",
        "    class_mode=None,\n",
        "    shuffle=False)"
      ],
      "execution_count": 6,
      "outputs": [
        {
          "output_type": "stream",
          "text": [
            "Found 3750 images belonging to 2 classes.\n"
          ],
          "name": "stdout"
        }
      ]
    },
    {
      "metadata": {
        "id": "pBhHJkRevbmB",
        "colab_type": "code",
        "colab": {
          "base_uri": "https://localhost:8080/",
          "height": 33
        },
        "outputId": "035e592a-3526-4605-9114-d0628d17c542"
      },
      "cell_type": "code",
      "source": [
        "test_generator = datagen.flow_from_directory(\n",
        "    test_dir,\n",
        "    target_size=(img_width, img_height),\n",
        "    batch_size=batch_size,\n",
        "    class_mode=None,\n",
        "    shuffle=False)"
      ],
      "execution_count": 7,
      "outputs": [
        {
          "output_type": "stream",
          "text": [
            "Found 3750 images belonging to 2 classes.\n"
          ],
          "name": "stdout"
        }
      ]
    },
    {
      "metadata": {
        "id": "0mlbthJ2vbmD",
        "colab_type": "text"
      },
      "cell_type": "markdown",
      "source": [
        "## Генерируем признаки и сохраняем их в файлы"
      ]
    },
    {
      "metadata": {
        "id": "A8JB7mWDvbmE",
        "colab_type": "text"
      },
      "cell_type": "markdown",
      "source": [
        "Признаки для изображений из набора данных для обучения"
      ]
    },
    {
      "metadata": {
        "id": "9QoWIiIlvbmF",
        "colab_type": "code",
        "colab": {}
      },
      "cell_type": "code",
      "source": [
        "features_train = vgg16_net.predict_generator(\n",
        "        train_generator, nb_train_samples // batch_size)"
      ],
      "execution_count": 0,
      "outputs": []
    },
    {
      "metadata": {
        "id": "nhS-St23vbmH",
        "colab_type": "code",
        "colab": {}
      },
      "cell_type": "code",
      "source": [
        "np.save(open('features_train.npy', 'wb'), features_train)"
      ],
      "execution_count": 0,
      "outputs": []
    },
    {
      "metadata": {
        "id": "sR9dJQHnvbmK",
        "colab_type": "text"
      },
      "cell_type": "markdown",
      "source": [
        "Признаки для изображений из проверочного набора данных"
      ]
    },
    {
      "metadata": {
        "id": "wPcGZX0bvbmL",
        "colab_type": "code",
        "colab": {}
      },
      "cell_type": "code",
      "source": [
        "features_val = vgg16_net.predict_generator(\n",
        "        val_generator, nb_validation_samples // batch_size)"
      ],
      "execution_count": 0,
      "outputs": []
    },
    {
      "metadata": {
        "id": "j9lroxNavbmN",
        "colab_type": "code",
        "colab": {}
      },
      "cell_type": "code",
      "source": [
        "np.save(open('features_val.npy', 'wb'), features_val)"
      ],
      "execution_count": 0,
      "outputs": []
    },
    {
      "metadata": {
        "id": "ahTdSslvvbmP",
        "colab_type": "text"
      },
      "cell_type": "markdown",
      "source": [
        "Признаки для изображений из тестового набора данных"
      ]
    },
    {
      "metadata": {
        "id": "VUGvmPLmvbmP",
        "colab_type": "code",
        "colab": {}
      },
      "cell_type": "code",
      "source": [
        "features_test = vgg16_net.predict_generator(\n",
        "        test_generator, nb_test_samples // batch_size)"
      ],
      "execution_count": 0,
      "outputs": []
    },
    {
      "metadata": {
        "id": "4THVKAlIvbmR",
        "colab_type": "code",
        "colab": {}
      },
      "cell_type": "code",
      "source": [
        "np.save(open('features_test.npy', 'wb'), features_test)"
      ],
      "execution_count": 0,
      "outputs": []
    },
    {
      "metadata": {
        "id": "HOi-8BRnvbmT",
        "colab_type": "text"
      },
      "cell_type": "markdown",
      "source": [
        "Генерируем метки для трех наборов данных"
      ]
    },
    {
      "metadata": {
        "id": "sCatx9wQvbmU",
        "colab_type": "code",
        "colab": {}
      },
      "cell_type": "code",
      "source": [
        "labels_train =  np.array(\n",
        "        [0] * (nb_train_samples // 2) + [1] * (nb_train_samples // 2))"
      ],
      "execution_count": 0,
      "outputs": []
    },
    {
      "metadata": {
        "id": "qpob2w73vbmW",
        "colab_type": "code",
        "colab": {}
      },
      "cell_type": "code",
      "source": [
        "labels_val =  np.array(\n",
        "        [0] * (nb_validation_samples // 2) + [1] * (nb_validation_samples // 2))"
      ],
      "execution_count": 0,
      "outputs": []
    },
    {
      "metadata": {
        "id": "AF06SRPrvbma",
        "colab_type": "code",
        "colab": {}
      },
      "cell_type": "code",
      "source": [
        "labels_test =  np.array(\n",
        "        [0] * (nb_test_samples // 2) + [1] * (nb_test_samples // 2))"
      ],
      "execution_count": 0,
      "outputs": []
    },
    {
      "metadata": {
        "id": "ajFCDDmsvbmf",
        "colab_type": "text"
      },
      "cell_type": "markdown",
      "source": [
        "## Загружаем признаки из файлов"
      ]
    },
    {
      "metadata": {
        "id": "4_e1F6Zpvbmh",
        "colab_type": "code",
        "colab": {}
      },
      "cell_type": "code",
      "source": [
        "features_train = np.load(open('features_train.npy', 'rb'))\n",
        "features_val = np.load(open('features_val.npy', 'rb'))\n",
        "features_test = np.load(open('features_test.npy', 'rb'))"
      ],
      "execution_count": 0,
      "outputs": []
    },
    {
      "metadata": {
        "id": "43CpGHxzvbml",
        "colab_type": "text"
      },
      "cell_type": "markdown",
      "source": [
        "## Создаем полносвязную сверточную нейронную сеть для классификации извлеченных из изображения признаков"
      ]
    },
    {
      "metadata": {
        "id": "mzhf2YYXvbmm",
        "colab_type": "code",
        "colab": {
          "base_uri": "https://localhost:8080/",
          "height": 87
        },
        "outputId": "13397c42-6672-43f3-fcb8-80449e0000bf"
      },
      "cell_type": "code",
      "source": [
        "model = Sequential()\n",
        "model.add(Flatten(input_shape=features_train.shape[1:]))\n",
        "model.add(Dense(512, activation='relu'))\n",
        "model.add(Dropout(0.5))\n",
        "model.add(Dense(1, activation='sigmoid'))"
      ],
      "execution_count": 18,
      "outputs": [
        {
          "output_type": "stream",
          "text": [
            "WARNING:tensorflow:From /usr/local/lib/python3.6/dist-packages/tensorflow/python/keras/layers/core.py:143: calling dropout (from tensorflow.python.ops.nn_ops) with keep_prob is deprecated and will be removed in a future version.\n",
            "Instructions for updating:\n",
            "Please use `rate` instead of `keep_prob`. Rate should be set to `rate = 1 - keep_prob`.\n"
          ],
          "name": "stdout"
        }
      ]
    },
    {
      "metadata": {
        "id": "sF088kfavbmp",
        "colab_type": "code",
        "colab": {}
      },
      "cell_type": "code",
      "source": [
        "model.compile(optimizer='Adam',\n",
        "              loss='binary_crossentropy', metrics=['accuracy'])"
      ],
      "execution_count": 0,
      "outputs": []
    },
    {
      "metadata": {
        "id": "Smh5le_rvbmv",
        "colab_type": "text"
      },
      "cell_type": "markdown",
      "source": [
        "Обучаем модель на признаках, которые извлекли из изображений"
      ]
    },
    {
      "metadata": {
        "id": "5XzEDXudvbmv",
        "colab_type": "code",
        "colab": {
          "base_uri": "https://localhost:8080/",
          "height": 622
        },
        "outputId": "694fe83e-c674-4f18-d7dd-fd2c9d5b6bfe"
      },
      "cell_type": "code",
      "source": [
        "model.fit(features_train, labels_train,\n",
        "              epochs=15,\n",
        "              batch_size=64,\n",
        "              validation_data=(features_val, labels_val), verbose=2)"
      ],
      "execution_count": 20,
      "outputs": [
        {
          "output_type": "stream",
          "text": [
            "Train on 17500 samples, validate on 3750 samples\n",
            "WARNING:tensorflow:From /usr/local/lib/python3.6/dist-packages/tensorflow/python/ops/math_ops.py:3066: to_int32 (from tensorflow.python.ops.math_ops) is deprecated and will be removed in a future version.\n",
            "Instructions for updating:\n",
            "Use tf.cast instead.\n",
            "Epoch 1/15\n",
            " - 3s - loss: 0.3360 - acc: 0.8611 - val_loss: 0.2924 - val_acc: 0.8701\n",
            "Epoch 2/15\n",
            " - 2s - loss: 0.2283 - acc: 0.8999 - val_loss: 0.2341 - val_acc: 0.8987\n",
            "Epoch 3/15\n",
            " - 2s - loss: 0.2036 - acc: 0.9126 - val_loss: 0.2200 - val_acc: 0.9096\n",
            "Epoch 4/15\n",
            " - 2s - loss: 0.1850 - acc: 0.9210 - val_loss: 0.2368 - val_acc: 0.9035\n",
            "Epoch 5/15\n",
            " - 2s - loss: 0.1718 - acc: 0.9291 - val_loss: 0.2081 - val_acc: 0.9131\n",
            "Epoch 6/15\n",
            " - 2s - loss: 0.1600 - acc: 0.9331 - val_loss: 0.2061 - val_acc: 0.9163\n",
            "Epoch 7/15\n",
            " - 2s - loss: 0.1506 - acc: 0.9378 - val_loss: 0.2504 - val_acc: 0.9016\n",
            "Epoch 8/15\n",
            " - 2s - loss: 0.1325 - acc: 0.9457 - val_loss: 0.2196 - val_acc: 0.9163\n",
            "Epoch 9/15\n",
            " - 2s - loss: 0.1240 - acc: 0.9498 - val_loss: 0.2293 - val_acc: 0.9179\n",
            "Epoch 10/15\n",
            " - 2s - loss: 0.1131 - acc: 0.9554 - val_loss: 0.2326 - val_acc: 0.9152\n",
            "Epoch 11/15\n",
            " - 2s - loss: 0.1067 - acc: 0.9573 - val_loss: 0.2397 - val_acc: 0.9107\n",
            "Epoch 12/15\n",
            " - 2s - loss: 0.0984 - acc: 0.9606 - val_loss: 0.2463 - val_acc: 0.9165\n",
            "Epoch 13/15\n",
            " - 2s - loss: 0.0895 - acc: 0.9649 - val_loss: 0.2575 - val_acc: 0.9227\n",
            "Epoch 14/15\n",
            " - 2s - loss: 0.0856 - acc: 0.9671 - val_loss: 0.2377 - val_acc: 0.9224\n",
            "Epoch 15/15\n",
            " - 2s - loss: 0.0815 - acc: 0.9663 - val_loss: 0.2754 - val_acc: 0.9128\n"
          ],
          "name": "stdout"
        },
        {
          "output_type": "execute_result",
          "data": {
            "text/plain": [
              "<tensorflow.python.keras.callbacks.History at 0x7ff11c43eba8>"
            ]
          },
          "metadata": {
            "tags": []
          },
          "execution_count": 20
        }
      ]
    },
    {
      "metadata": {
        "id": "U8vyG1DZvbmy",
        "colab_type": "code",
        "colab": {
          "base_uri": "https://localhost:8080/",
          "height": 50
        },
        "outputId": "0643353d-a8a1-41df-a626-1a5f965870a6"
      },
      "cell_type": "code",
      "source": [
        "scores = model.evaluate(features_test, labels_test, verbose=1)\n",
        "print(\"Аккуратность на тестовых данных: %.2f%%\" % (scores[1]*100))"
      ],
      "execution_count": 21,
      "outputs": [
        {
          "output_type": "stream",
          "text": [
            "3750/3750 [==============================] - 0s 63us/sample - loss: 0.2955 - acc: 0.9056\n",
            "Аккуратность на тестовых данных: 90.56%\n"
          ],
          "name": "stdout"
        }
      ]
    },
    {
      "metadata": {
        "id": "H2iY-s33vbm1",
        "colab_type": "code",
        "colab": {}
      },
      "cell_type": "code",
      "source": [
        ""
      ],
      "execution_count": 0,
      "outputs": []
    }
  ]
}