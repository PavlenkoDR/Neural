{
  "nbformat": 4,
  "nbformat_minor": 0,
  "metadata": {
    "colab": {
      "name": "Neuro_prepare.ipynb",
      "version": "0.3.2",
      "provenance": [],
      "collapsed_sections": []
    },
    "kernelspec": {
      "name": "python3",
      "display_name": "Python 3"
    },
    "accelerator": "GPU"
  },
  "cells": [
    {
      "cell_type": "markdown",
      "metadata": {
        "id": "UN0uH9Wo42aH",
        "colab_type": "text"
      },
      "source": [
        "Подготовка данных для распознавания цветов на изображениях"
      ]
    },
    {
      "cell_type": "markdown",
      "metadata": {
        "id": "XZc3ooUkPzT2",
        "colab_type": "text"
      },
      "source": [
        "Модуль shutil содержит набор функций высокого уровня для обработки файлов, групп файлов, и папок. В частности, доступные здесь функции позволяют копировать, перемещать и удалять файлы и папки. Часто используется вместе с модулем os."
      ]
    },
    {
      "cell_type": "markdown",
      "metadata": {
        "id": "GsZ7QmC4P1dx",
        "colab_type": "text"
      },
      "source": [
        "Модуль os предоставляет множество функций для работы с операционной системой, причём их поведение, как правило, не зависит от ОС, поэтому программы остаются переносимыми."
      ]
    },
    {
      "cell_type": "code",
      "metadata": {
        "id": "ryvBs85YWf0U",
        "colab_type": "code",
        "outputId": "ea16c27f-d693-4141-e918-9a85199bc600",
        "colab": {
          "base_uri": "https://localhost:8080/",
          "height": 122
        }
      },
      "source": [
        "from google.colab import drive\n",
        "drive.mount('/content/gdrive')"
      ],
      "execution_count": 1,
      "outputs": [
        {
          "output_type": "stream",
          "text": [
            "Go to this URL in a browser: https://accounts.google.com/o/oauth2/auth?client_id=947318989803-6bn6qk8qdgf4n4g3pfee6491hc0brc4i.apps.googleusercontent.com&redirect_uri=urn%3Aietf%3Awg%3Aoauth%3A2.0%3Aoob&scope=email%20https%3A%2F%2Fwww.googleapis.com%2Fauth%2Fdocs.test%20https%3A%2F%2Fwww.googleapis.com%2Fauth%2Fdrive%20https%3A%2F%2Fwww.googleapis.com%2Fauth%2Fdrive.photos.readonly%20https%3A%2F%2Fwww.googleapis.com%2Fauth%2Fpeopleapi.readonly&response_type=code\n",
            "\n",
            "Enter your authorization code:\n",
            "··········\n",
            "Mounted at /content/gdrive\n"
          ],
          "name": "stdout"
        }
      ]
    },
    {
      "cell_type": "code",
      "metadata": {
        "id": "7Dw5VIpp4SLo",
        "colab_type": "code",
        "colab": {}
      },
      "source": [
        "import shutil\n",
        "import os"
      ],
      "execution_count": 0,
      "outputs": []
    },
    {
      "cell_type": "code",
      "metadata": {
        "id": "NPFykNBy5Itr",
        "colab_type": "code",
        "colab": {}
      },
      "source": [
        "# Каталог с набором данных\n",
        "#data_dir = '/content/train11/trainfl'\n",
        "data_dir = '/content/gdrive/My Drive/Colab Notebooks/trainfl'\n",
        "# Каталог с данными для обучения\n",
        "train_dir = '/content/train'\n",
        "# Каталог с данными для проверки\n",
        "val_dir = '/content/val'\n",
        "# Каталог с данными для тестирования\n",
        "test_dir = '/content/test'\n",
        "# Часть набора данных для тестирования\n",
        "test_data_portion = 0.15\n",
        "# Часть набора данных для проверки\n",
        "val_data_portion = 0.15\n",
        "# Количество элементов данных в одном классе\n",
        "nb_images = 734"
      ],
      "execution_count": 0,
      "outputs": []
    },
    {
      "cell_type": "markdown",
      "metadata": {
        "id": "kNfrXAgaQvuJ",
        "colab_type": "text"
      },
      "source": [
        "shutil.rmtree(path, ignore_errors=False, onerror=None) - Удаляет текущую директорию и все поддиректории; path должен указывать на директорию, а не на символическую ссылку.\n",
        "\n",
        "os.makedirs(path, mode=0o777, exist_ok=False) - создаёт директорию, создавая при этом промежуточные директории.\n",
        "\n",
        "Функция создания каталога с двумя подкаталогами по названию классов - цветов"
      ]
    },
    {
      "cell_type": "code",
      "metadata": {
        "id": "EBhmc632QxDP",
        "colab_type": "code",
        "colab": {}
      },
      "source": [
        "def create_directory(dir_name):\n",
        "    if os.path.exists(dir_name):\n",
        "        shutil.rmtree(dir_name)\n",
        "    os.makedirs(dir_name)\n",
        "    os.makedirs(os.path.join(dir_name, \"daisy\"))\n",
        "    os.makedirs(os.path.join(dir_name, \"rose\"))\n",
        "    os.makedirs(os.path.join(dir_name, \"sunflower\"))\n",
        "    os.makedirs(os.path.join(dir_name, \"dandelion\"))\n",
        "    os.makedirs(os.path.join(dir_name, \"tulip\"))"
      ],
      "execution_count": 0,
      "outputs": []
    },
    {
      "cell_type": "markdown",
      "metadata": {
        "id": "Wsy0m2GBRpRQ",
        "colab_type": "text"
      },
      "source": [
        "Создание структуры каталогов для обучающего, проверочного и тестового набора данных"
      ]
    },
    {
      "cell_type": "code",
      "metadata": {
        "id": "B24xTWLDRopK",
        "colab_type": "code",
        "colab": {}
      },
      "source": [
        "create_directory(train_dir)\n",
        "create_directory(val_dir)\n",
        "create_directory(test_dir)"
      ],
      "execution_count": 0,
      "outputs": []
    },
    {
      "cell_type": "markdown",
      "metadata": {
        "id": "nsO0_KggRv8Y",
        "colab_type": "text"
      },
      "source": [
        "Функция копирования изображений в заданный каталог. Изображения разных цветов копируются в отдельные подкаталоги"
      ]
    },
    {
      "cell_type": "markdown",
      "metadata": {
        "id": "8OP9b7ftSUMY",
        "colab_type": "text"
      },
      "source": [
        "shutil.copy2(src, dst, follow_symlinks=True) - копирует из src в dst"
      ]
    },
    {
      "cell_type": "code",
      "metadata": {
        "id": "4uvJV8IfRxBC",
        "colab_type": "code",
        "colab": {}
      },
      "source": [
        "def copy_images(start_index, end_index, source_dir, dest_dir):\n",
        "    for i in range(start_index, end_index):\n",
        "        shutil.copy2(os.path.join(source_dir, \"daisy (\" + str(i) + \").jpg\"), \n",
        "                    os.path.join(dest_dir, \"daisy\"))\n",
        "        shutil.copy2(os.path.join(source_dir, \"rose (\" + str(i) + \").jpg\"), \n",
        "                    os.path.join(dest_dir, \"rose\"))\n",
        "        shutil.copy2(os.path.join(source_dir, \"dandelion (\" + str(i) + \").jpg\"), \n",
        "                    os.path.join(dest_dir, \"dandelion\"))\n",
        "        shutil.copy2(os.path.join(source_dir, \"sunflower (\" + str(i) + \").jpg\"), \n",
        "                    os.path.join(dest_dir, \"sunflower\"))\n",
        "        shutil.copy2(os.path.join(source_dir, \"tulip (\" + str(i) + \").jpg\"), \n",
        "                    os.path.join(dest_dir, \"tulip\"))"
      ],
      "execution_count": 0,
      "outputs": []
    },
    {
      "cell_type": "code",
      "metadata": {
        "id": "hI_kmKZgAS8z",
        "colab_type": "code",
        "outputId": "48f39d92-54cc-47fe-f404-4cdeb7fa2e31",
        "colab": {
          "base_uri": "https://localhost:8080/",
          "height": 51
        }
      },
      "source": [
        "start_val_data_idx = int(nb_images * (1 - val_data_portion - test_data_portion) + 1) #70%\n",
        "start_test_data_idx = int(nb_images * (1 - test_data_portion) + 1)\n",
        "print(start_val_data_idx)\n",
        "print(start_test_data_idx)   "
      ],
      "execution_count": 7,
      "outputs": [
        {
          "output_type": "stream",
          "text": [
            "514\n",
            "624\n"
          ],
          "name": "stdout"
        }
      ]
    },
    {
      "cell_type": "markdown",
      "metadata": {
        "id": "tdUGsrtm0eD5",
        "colab_type": "text"
      },
      "source": [
        "Копируем изображения в нужные директории"
      ]
    },
    {
      "cell_type": "code",
      "metadata": {
        "id": "ihzrwiQnAYLF",
        "colab_type": "code",
        "colab": {}
      },
      "source": [
        "copy_images(1, start_val_data_idx, data_dir, train_dir)\n",
        "copy_images(start_val_data_idx, start_test_data_idx, data_dir, val_dir)\n",
        "copy_images(start_test_data_idx, nb_images, data_dir, test_dir)"
      ],
      "execution_count": 0,
      "outputs": []
    }
  ]
}