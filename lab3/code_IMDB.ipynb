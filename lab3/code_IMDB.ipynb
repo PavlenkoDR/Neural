{
 "cells": [
  {
   "cell_type": "markdown",
   "metadata": {
    "colab_type": "text",
    "id": "ewWpV2e6T92A"
   },
   "source": [
    "# Определение тональности отзывов на фильмы в базе IMDB\n",
    "\n",
    "Чтобы запускать и редактировать код, сохраните копию этого ноутбука себе (File->Save a copy in Drive...). Свою копию вы сможете изменять и запускать."
   ]
  },
  {
   "cell_type": "code",
   "execution_count": null,
   "metadata": {
    "colab": {
     "autoexec": {
      "startup": false,
      "wait_interval": 0
     },
     "base_uri": "https://localhost:8080/",
     "height": 34
    },
    "colab_type": "code",
    "executionInfo": {
     "elapsed": 8172,
     "status": "ok",
     "timestamp": 1523208768588,
     "user": {
      "displayName": "Andrey Sozykin",
      "photoUrl": "//lh5.googleusercontent.com/-ErNH158Vx74/AAAAAAAAAAI/AAAAAAAAALA/FLh7rOkXgJs/s50-c-k-no/photo.jpg",
      "userId": "101492825683836041366"
     },
     "user_tz": -300
    },
    "id": "e9U49Am5T28P",
    "outputId": "ec93d964-8525-4f55-c615-405b482c22e4"
   },
   "outputs": [],
   "source": [
    "import numpy as np\n",
    "from keras.preprocessing import sequence\n",
    "from keras.models import Sequential\n",
    "from keras.layers import Dense, Activation, Embedding\n",
    "from keras.layers import LSTM, SpatialDropout1D\n",
    "from keras.datasets import imdb"
   ]
  },
  {
   "cell_type": "code",
   "execution_count": null,
   "metadata": {
    "colab": {
     "autoexec": {
      "startup": false,
      "wait_interval": 0
     }
    },
    "colab_type": "code",
    "id": "wK2d5o_zUaDP"
   },
   "outputs": [],
   "source": [
    "# Максимальное количество слов (по частоте использования)\n",
    "max_features = 5000\n",
    "# Максимальная длина рецензии в словах\n",
    "maxlen = 80"
   ]
  },
  {
   "cell_type": "markdown",
   "metadata": {
    "colab_type": "text",
    "id": "gdz00eL0Ubzf"
   },
   "source": [
    "## Загружаем данные"
   ]
  },
  {
   "cell_type": "code",
   "execution_count": null,
   "metadata": {
    "colab": {
     "autoexec": {
      "startup": false,
      "wait_interval": 0
     },
     "base_uri": "https://localhost:8080/",
     "height": 52
    },
    "colab_type": "code",
    "executionInfo": {
     "elapsed": 6489,
     "status": "ok",
     "timestamp": 1523208826872,
     "user": {
      "displayName": "Andrey Sozykin",
      "photoUrl": "//lh5.googleusercontent.com/-ErNH158Vx74/AAAAAAAAAAI/AAAAAAAAALA/FLh7rOkXgJs/s50-c-k-no/photo.jpg",
      "userId": "101492825683836041366"
     },
     "user_tz": -300
    },
    "id": "YPKA8s4hUfM_",
    "outputId": "1d113ce9-b34e-42ae-fefa-85544c561b87"
   },
   "outputs": [],
   "source": [
    "(X_train, y_train), (X_test, y_test) = imdb.load_data(num_words=max_features)"
   ]
  },
  {
   "cell_type": "markdown",
   "metadata": {
    "colab_type": "text",
    "id": "16iRnCofUmmP"
   },
   "source": [
    "## Предварительная обработка рецензий"
   ]
  },
  {
   "cell_type": "code",
   "execution_count": null,
   "metadata": {
    "colab": {
     "autoexec": {
      "startup": false,
      "wait_interval": 0
     }
    },
    "colab_type": "code",
    "id": "hXf6iAQfUqmP"
   },
   "outputs": [],
   "source": [
    "X_train = sequence.pad_sequences(X_train, maxlen=maxlen)\n",
    "X_test = sequence.pad_sequences(X_test, maxlen=maxlen)"
   ]
  },
  {
   "cell_type": "markdown",
   "metadata": {
    "colab_type": "text",
    "id": "lRI3Q47wUus_"
   },
   "source": [
    "## Создаем нейронную сеть"
   ]
  },
  {
   "cell_type": "code",
   "execution_count": null,
   "metadata": {
    "colab": {
     "autoexec": {
      "startup": false,
      "wait_interval": 0
     }
    },
    "colab_type": "code",
    "id": "bfc88FSTUxzQ"
   },
   "outputs": [],
   "source": [
    "model = Sequential()\n",
    "# Слой для векторного представления слов\n",
    "model.add(Embedding(max_features, 32))\n",
    "model.add(SpatialDropout1D(0.2))\n",
    "# Слой долго-краткосрочной памяти\n",
    "model.add(LSTM(100, dropout=0.2, recurrent_dropout=0.2)) \n",
    "# Полносвязный слой\n",
    "model.add(Dense(1, activation=\"sigmoid\"))"
   ]
  },
  {
   "cell_type": "markdown",
   "metadata": {
    "colab_type": "text",
    "id": "wpsP4ZqRU-NK"
   },
   "source": [
    "**Печаем информацию о сети**"
   ]
  },
  {
   "cell_type": "code",
   "execution_count": null,
   "metadata": {
    "colab": {
     "autoexec": {
      "startup": false,
      "wait_interval": 0
     },
     "base_uri": "https://localhost:8080/",
     "height": 294
    },
    "colab_type": "code",
    "executionInfo": {
     "elapsed": 715,
     "status": "ok",
     "timestamp": 1523209935922,
     "user": {
      "displayName": "Andrey Sozykin",
      "photoUrl": "//lh5.googleusercontent.com/-ErNH158Vx74/AAAAAAAAAAI/AAAAAAAAALA/FLh7rOkXgJs/s50-c-k-no/photo.jpg",
      "userId": "101492825683836041366"
     },
     "user_tz": -300
    },
    "id": "c1a5VOeRVCGv",
    "outputId": "751b3907-11fc-46e8-c4cf-29ee6ed01fa5"
   },
   "outputs": [],
   "source": [
    "print(model.summary())"
   ]
  },
  {
   "cell_type": "markdown",
   "metadata": {
    "colab_type": "text",
    "id": "Dj3SqgmVVJRo"
   },
   "source": [
    "**Компилируем модель**"
   ]
  },
  {
   "cell_type": "code",
   "execution_count": null,
   "metadata": {
    "colab": {
     "autoexec": {
      "startup": false,
      "wait_interval": 0
     }
    },
    "colab_type": "code",
    "id": "ZTeD7r8iVMJv"
   },
   "outputs": [],
   "source": [
    "model.compile(loss='binary_crossentropy',\n",
    "              optimizer='adam',\n",
    "              metrics=['accuracy'])"
   ]
  },
  {
   "cell_type": "markdown",
   "metadata": {
    "colab_type": "text",
    "id": "67THY9BqVPIQ"
   },
   "source": [
    "## Обучаем модель"
   ]
  },
  {
   "cell_type": "code",
   "execution_count": null,
   "metadata": {
    "colab": {
     "autoexec": {
      "startup": false,
      "wait_interval": 0
     },
     "base_uri": "https://localhost:8080/",
     "height": 294
    },
    "colab_type": "code",
    "executionInfo": {
     "elapsed": 784087,
     "status": "ok",
     "timestamp": 1523210725743,
     "user": {
      "displayName": "Andrey Sozykin",
      "photoUrl": "//lh5.googleusercontent.com/-ErNH158Vx74/AAAAAAAAAAI/AAAAAAAAALA/FLh7rOkXgJs/s50-c-k-no/photo.jpg",
      "userId": "101492825683836041366"
     },
     "user_tz": -300
    },
    "id": "O21SSxaFVRz4",
    "outputId": "99aec20e-5e5f-4fac-ce5b-265ddeb185fe"
   },
   "outputs": [],
   "source": [
    "model.fit(X_train, y_train, batch_size=64, epochs=7,\n",
    "          validation_data=(X_test, y_test), verbose=2)"
   ]
  },
  {
   "cell_type": "markdown",
   "metadata": {
    "colab_type": "text",
    "id": "nDAaN9LLVwcA"
   },
   "source": [
    "## Оцениваем качество обучения сети"
   ]
  },
  {
   "cell_type": "code",
   "execution_count": null,
   "metadata": {
    "colab": {
     "autoexec": {
      "startup": false,
      "wait_interval": 0
     },
     "base_uri": "https://localhost:8080/",
     "height": 52
    },
    "colab_type": "code",
    "executionInfo": {
     "elapsed": 26173,
     "status": "ok",
     "timestamp": 1523209904437,
     "user": {
      "displayName": "Andrey Sozykin",
      "photoUrl": "//lh5.googleusercontent.com/-ErNH158Vx74/AAAAAAAAAAI/AAAAAAAAALA/FLh7rOkXgJs/s50-c-k-no/photo.jpg",
      "userId": "101492825683836041366"
     },
     "user_tz": -300
    },
    "id": "LdtdLNdfV0ln",
    "outputId": "1aef2303-bfc5-42c5-e481-83704fc7463d"
   },
   "outputs": [],
   "source": [
    "scores = model.evaluate(X_test, y_test,\n",
    "                        batch_size=64)\n",
    "print(\"Аккуратность на тестовых данных: %.2f%%\" % (scores[1] * 100))"
   ]
  },
  {
   "cell_type": "code",
   "execution_count": null,
   "metadata": {},
   "outputs": [],
   "source": []
  }
 ],
 "metadata": {
  "accelerator": "GPU",
  "colab": {
   "default_view": {},
   "name": "imdb_lstm.ipynb",
   "provenance": [],
   "version": "0.3.2",
   "views": {}
  },
  "kernelspec": {
   "display_name": "Python 3 GPU",
   "language": "python",
   "name": "python3"
  },
  "language_info": {
   "codemirror_mode": {
    "name": "ipython",
    "version": 3
   },
   "file_extension": ".py",
   "mimetype": "text/x-python",
   "name": "python",
   "nbconvert_exporter": "python",
   "pygments_lexer": "ipython3",
   "version": "3.6.7"
  }
 },
 "nbformat": 4,
 "nbformat_minor": 1
}
